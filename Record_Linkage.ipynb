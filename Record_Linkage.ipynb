{
  "nbformat": 4,
  "nbformat_minor": 0,
  "metadata": {
    "colab": {
      "name": "Record_Linkage.ipynb",
      "provenance": [],
      "authorship_tag": "ABX9TyPAomzWfj1IhOspDk1Sxx/I",
      "include_colab_link": true
    },
    "kernelspec": {
      "name": "python3",
      "display_name": "Python 3"
    },
    "language_info": {
      "name": "python"
    }
  },
  "cells": [
    {
      "cell_type": "markdown",
      "metadata": {
        "id": "view-in-github",
        "colab_type": "text"
      },
      "source": [
        "<a href=\"https://colab.research.google.com/github/MariaCarmelaPascale/Homework1/blob/main/Record_Linkage.ipynb\" target=\"_parent\"><img src=\"https://colab.research.google.com/assets/colab-badge.svg\" alt=\"Open In Colab\"/></a>"
      ]
    },
    {
      "cell_type": "markdown",
      "source": [
        "##RECORD LINKAGE"
      ],
      "metadata": {
        "id": "nx4Gp3ES31ZN"
      }
    },
    {
      "cell_type": "code",
      "source": [
        "!pip install deepmatcher\n",
        "!pip install py_entitymatching"
      ],
      "metadata": {
        "id": "05W-R5tB3_HH"
      },
      "execution_count": 3,
      "outputs": []
    },
    {
      "cell_type": "code",
      "execution_count": 4,
      "metadata": {
        "id": "u22zqfjouq8U"
      },
      "outputs": [],
      "source": [
        "import deepmatcher as dm\n",
        "import pandas as pd\n",
        "import py_entitymatching as em\n",
        "import os"
      ]
    },
    {
      "cell_type": "code",
      "source": [
        "#inserimento indice \n",
        "df = pd.read_csv('mediated_schema_pulito.csv')\n",
        "df['id']=df.index\n",
        "#df.to_csv('mediated_schema_pulito.csv', index = False)"
      ],
      "metadata": {
        "id": "kgym5O1OGtRf",
        "colab": {
          "base_uri": "https://localhost:8080/"
        },
        "outputId": "ff4f6664-37f7-4882-aa0d-b26ada4367a8"
      },
      "execution_count": 17,
      "outputs": [
        {
          "output_type": "stream",
          "name": "stderr",
          "text": [
            "/usr/local/lib/python3.7/dist-packages/IPython/core/interactiveshell.py:3457: DtypeWarning: Columns (4,6,7,8,9,10,13,14,15,16,17,19,20,21,22,23,24,28,30,31,32,33,34,38,39,40,41,42,43,44,45,46,47,48,49,50,51,52,53,54,56,57) have mixed types.Specify dtype option on import or set low_memory=False.\n",
            "  exec(code_obj, self.user_global_ns, self.user_ns)\n"
          ]
        }
      ]
    },
    {
      "cell_type": "code",
      "source": [
        "df1 = df.iloc[:8000,:]\n",
        "df2 = df.iloc[8000:16000,:]\n",
        "df3 = df.iloc[16000:24000,:]\n",
        "df4 = df.iloc[24000:32000,:]\n",
        "df5 = df.iloc[32000:40000,:]\n",
        "df6 = df.iloc[40000:48000,:]\n",
        "df7 = df.iloc[48000:52666,:]\n",
        "\n",
        "df1.to_csv('df1.csv', index = False)\n",
        "df2.to_csv('df2.csv', index = False)\n",
        "df3.to_csv('df3.csv', index = False)\n",
        "df4.to_csv('df4.csv', index = False)\n",
        "df5.to_csv('df5.csv', index = False)\n",
        "df6.to_csv('df6.csv', index = False)\n",
        "df7.to_csv('df7.csv', index = False)\n",
        "\n",
        "df1 = em.read_csv_metadata('df1.csv', key='id')\n",
        "df2 = em.read_csv_metadata('df2.csv', key='id')\n",
        "df3 = em.read_csv_metadata('df3.csv', key='id')\n",
        "df4 = em.read_csv_metadata('df4.csv', key='id')\n",
        "df5 = em.read_csv_metadata('df5.csv', key='id')\n",
        "df6 = em.read_csv_metadata('df6.csv', key='id')\n",
        "df7 = em.read_csv_metadata('df7.csv', key='id')\n",
        "\n",
        "lista = [df1, df2, df3, df4, df5, df6, df7]\n",
        "\n",
        "a = 1\n",
        "for i in lista:\n",
        "  b = 1\n",
        "  for j in lista:\n",
        "    ob = em.OverlapBlocker()\n",
        "    K1 = ob.block_tables(i, j, 'name', 'name',\n",
        "                        l_output_attrs= i.columns.values.tolist(), \n",
        "                        r_output_attrs= j.columns.values.tolist(),\n",
        "                        overlap_size=1) \n",
        "    K1.to_csv('K1_' + '%d' % a + '%d' % b +'.csv', index = False)\n",
        "    b=b+1\n",
        "  a=a+1 "
      ],
      "metadata": {
        "id": "CzINBR87N2ZP"
      },
      "execution_count": null,
      "outputs": []
    },
    {
      "cell_type": "code",
      "source": [
        ""
      ],
      "metadata": {
        "id": "0Ljr_I-Bu-xc"
      },
      "execution_count": null,
      "outputs": []
    },
    {
      "cell_type": "code",
      "source": [
        "from google.colab import drive\n",
        "drive.mount('/content/drive')"
      ],
      "metadata": {
        "id": "DXid5Qxf-X1a"
      },
      "execution_count": null,
      "outputs": []
    },
    {
      "cell_type": "code",
      "source": [
        "# Take a sample of 500 pairs from the candidate set.\n",
        "S = em.sample_table(K1, 500)"
      ],
      "metadata": {
        "id": "IaI0EKA2SO0i"
      },
      "execution_count": null,
      "outputs": []
    },
    {
      "cell_type": "code",
      "source": [
        "!pip install PyQt5"
      ],
      "metadata": {
        "id": "gGvlPe1oST2c"
      },
      "execution_count": null,
      "outputs": []
    },
    {
      "cell_type": "code",
      "source": [
        "# Label the sample S in a GUI. Enter 1 for match and 0 for non-match.\n",
        "G = em.label_table(S, 'gold')"
      ],
      "metadata": {
        "colab": {
          "base_uri": "https://localhost:8080/"
        },
        "id": "j6DoPvmas5Nk",
        "outputId": "60e7136d-8fe0-4bce-e548-0fddaad8bcb5"
      },
      "execution_count": null,
      "outputs": [
        {
          "output_type": "stream",
          "name": "stderr",
          "text": [
            "WARNING:py_entitymatching.utils.catalog_helper:Column name (gold) is not present in dataframe\n"
          ]
        }
      ]
    },
    {
      "cell_type": "code",
      "source": [
        "len(G)"
      ],
      "metadata": {
        "id": "LJGTwIgPu0_r"
      },
      "execution_count": null,
      "outputs": []
    },
    {
      "cell_type": "code",
      "source": [
        "# Split labeled data into train, valid, and test csv files to disk, with the split ratio of 3:1:1.\n",
        "dm.data.split(G, '', 'train.csv', 'valid.csv', 'test.csv', [3, 1, 1])"
      ],
      "metadata": {
        "id": "ycwVTBVjwM-E"
      },
      "execution_count": null,
      "outputs": []
    }
  ]
}